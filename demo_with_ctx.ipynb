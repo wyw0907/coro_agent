{
 "cells": [
  {
   "cell_type": "code",
   "execution_count": 1,
   "id": "c6953db1-1973-448e-9ee7-8ffb887c6109",
   "metadata": {
    "tags": []
   },
   "outputs": [
    {
     "name": "stdout",
     "output_type": "stream",
     "text": [
      "0.0.295\n",
      "\n",
      "\n",
      "\u001b[1m> Entering new CoroAgentExecutor chain...\u001b[0m\n",
      "[ChatMessage(content='Assistant is a large language model trained by OpenAI.\\n\\nAssistant is designed to be able to assist with a wide range of tasks, from answering simple questions to providing in-depth explanations and discussions on a wide range of topics. As a language model, Assistant is able to generate human-like text based on the input it receives, allowing it to engage in natural-sounding conversations and provide responses that are coherent and relevant to the topic at hand.\\n\\nAssistant is constantly learning and improving, and its capabilities are constantly evolving. It is able to process and understand large amounts of text, and can use this knowledge to provide accurate and informative responses to a wide range of questions. Additionally, Assistant is able to generate its own text based on the input it receives, allowing it to engage in discussions and provide explanations and descriptions on a wide range of topics.\\n\\nOverall, Assistant is a powerful tool that can help with a wide range of tasks and provide valuable insights and information on a wide range of topics. Whether you need help with a specific question or just want to have a conversation about a particular topic, Assistant is here to assist.\\n\\nTOOLS:\\n------\\n\\nAssistant has access to the following tools:\\n\\n> searchBill: searchBill(action_input: str) - 用于查询指定日期账单, 查询参数不可编造，如果无法从用户提问中得知，需要向用户询问，需要的参数为json格式:\\n    {\\n        \"type\": \"账单类型:日账单|月账单\", \\n        \"startDate\": \"开始日期, 如果是日账单需要精确到日,eg:20230627, 如果是月账单只需要精确到月,eg:202306\", \\n        \"endDate\": \"结束日期,格式和startDate一致\"\\n    }\\n> askUser: askUser(action_input: str) - 当你无法确定可以调用哪个工具或者调用工具缺少必要参数的时候，你可以询问用户获取想要的答案，如果用户回答不满足，你可以重复提问，输入为:[你想了解的问题]\\n> queryTime: queryTime(action_input) - 查询此时此刻时间\\n\\nTo use a tool, please use the following format:\\n\\n```\\nThought: Do I need to use a tool? Yes\\nAction: the action to take, should be one of [searchBill, askUser, queryTime]\\nAction Input: the input to the action\\nObservation: the result of the action\\n```\\n\\nWhen you have a response to say to the Human, or if you do not need to use a tool, you MUST use the format:\\n\\n```\\nThought: Do I need to use a tool? No\\nAI: [your response here]\\n```\\n\\nBegin!\\n\\nPrevious conversation history:\\n\\n\\nNew input: 我想查账单\\n', additional_kwargs={}, role='user')]\n",
      "\u001b[32;1m\u001b[1;3mThought: Do I need to use a tool? Yes\n",
      "Action: askUser\n",
      "Action Input: 你想查询哪种类型的账单？是日账单还是月账单？同时，也请提供你想查询的开始日期和结束日期。\u001b[0m\n",
      "Observation: \u001b[33;1m\u001b[1;3moutput='你想查询哪种类型的账单？是日账单还是月账单？同时，也请提供你想查询的开始日期和结束日期。'\u001b[0m\n",
      "Thought:\n",
      "\u001b[1m> Finished chain.\u001b[0m\n",
      ">>>>>>>>你想查询哪种类型的账单？是日账单还是月账单？同时，也请提供你想查询的开始日期和结束日期。\n"
     ]
    }
   ],
   "source": [
    "from langchain.llms import OpenAI\n",
    "from langchain.agents import AgentType, initialize_agent\n",
    "from langchain.memory import ConversationBufferMemory\n",
    "from langchain.tools import Tool, StructuredTool\n",
    "import json, random\n",
    "import os, time\n",
    "from datetime import datetime\n",
    "import pytz\n",
    "from coro_agent.coro_agent import initialize_coro_agent, CoroAgentSuspend\n",
    "from coro_agent.coro_tools import StructuredToolWithCtx\n",
    "from abc import ABC\n",
    "\n",
    "memory = ConversationBufferMemory(memory_key='chat_history')\n",
    "\n",
    "os.environ['OPENAI_API_KEY'] = '****'\n",
    "\n",
    "llm = OpenAI(temperature=0)\n",
    "\n",
    "def queryTime(action_input):\n",
    "    '''\n",
    "    查询此时此刻时间\n",
    "    '''\n",
    "    now = datetime.now()\n",
    "    beijing_tz = pytz.timezone('Asia/Shanghai')\n",
    "    beijing_time = now.astimezone(beijing_tz)\n",
    "    return beijing_time.strftime(\"%Y-%m-%d %H:%M:%S\")\n",
    "\n",
    "def askUser(action_input: str):\n",
    "    '''\n",
    "    当你无法确定可以调用哪个工具或者调用工具缺少必要参数的时候，你可以询问用户获取想要的答案，如果用户回答不满足，你可以重复提问，输入为:[你想了解的问题]\n",
    "    '''    \n",
    "    return CoroAgentSuspend(output=action_input)\n",
    "\n",
    "def searchBill(action_input: str, context:dict ):\n",
    "    '''\n",
    "    用于查询指定日期账单, 查询参数不可编造，如果无法从用户提问中得知，需要向用户询问，需要的参数为json格式:\n",
    "    {{\n",
    "        \"type\": \"账单类型:日账单|月账单\", \n",
    "        \"startDate\": \"开始日期, 如果是日账单需要精确到日,eg:20230627, 如果是月账单只需要精确到月,eg:202306\", \n",
    "        \"endDate\": \"结束日期,格式和startDate一致\"\n",
    "    }}\n",
    "    '''\n",
    "    params = json.loads(action_input)\n",
    "    return '查询到{}的账单如下：账单类型:{}\\t日期:{}-{}\\t 消费200元' .format(\n",
    "        context['name'],\n",
    "        params['type'],\n",
    "        params['startDate'],\n",
    "        params['endDate'],      \n",
    "    )\n",
    "\n",
    "tools = [\n",
    "    StructuredToolWithCtx.from_function(searchBill),\n",
    "    StructuredTool.from_function(askUser),\n",
    "    StructuredTool.from_function(queryTime),\n",
    "]\n",
    "\n",
    "agent_chain = initialize_coro_agent(tools, llm, agent=AgentType.CONVERSATIONAL_REACT_DESCRIPTION, verbose=True, memory=memory, tool_execute_context={'name': 'wyw'})\n",
    "\n",
    "r = agent_chain.run(input='我想查账单')\n",
    "\n",
    "print(f'>>>>>>>>{r}')"
   ]
  },
  {
   "cell_type": "code",
   "execution_count": 2,
   "id": "3a23d57c-7bcf-43c8-82d7-23b7b544db4f",
   "metadata": {
    "tags": []
   },
   "outputs": [
    {
     "name": "stdout",
     "output_type": "stream",
     "text": [
      "\n",
      "\n",
      "\u001b[1m> Entering new CoroAgentExecutor chain...\u001b[0m\n",
      "[ChatMessage(content='Assistant is a large language model trained by OpenAI.\\n\\nAssistant is designed to be able to assist with a wide range of tasks, from answering simple questions to providing in-depth explanations and discussions on a wide range of topics. As a language model, Assistant is able to generate human-like text based on the input it receives, allowing it to engage in natural-sounding conversations and provide responses that are coherent and relevant to the topic at hand.\\n\\nAssistant is constantly learning and improving, and its capabilities are constantly evolving. It is able to process and understand large amounts of text, and can use this knowledge to provide accurate and informative responses to a wide range of questions. Additionally, Assistant is able to generate its own text based on the input it receives, allowing it to engage in discussions and provide explanations and descriptions on a wide range of topics.\\n\\nOverall, Assistant is a powerful tool that can help with a wide range of tasks and provide valuable insights and information on a wide range of topics. Whether you need help with a specific question or just want to have a conversation about a particular topic, Assistant is here to assist.\\n\\nTOOLS:\\n------\\n\\nAssistant has access to the following tools:\\n\\n> searchBill: searchBill(action_input: str) - 用于查询指定日期账单, 查询参数不可编造，如果无法从用户提问中得知，需要向用户询问，需要的参数为json格式:\\n    {\\n        \"type\": \"账单类型:日账单|月账单\", \\n        \"startDate\": \"开始日期, 如果是日账单需要精确到日,eg:20230627, 如果是月账单只需要精确到月,eg:202306\", \\n        \"endDate\": \"结束日期,格式和startDate一致\"\\n    }\\n> askUser: askUser(action_input: str) - 当你无法确定可以调用哪个工具或者调用工具缺少必要参数的时候，你可以询问用户获取想要的答案，如果用户回答不满足，你可以重复提问，输入为:[你想了解的问题]\\n> queryTime: queryTime(action_input) - 查询此时此刻时间\\n\\nTo use a tool, please use the following format:\\n\\n```\\nThought: Do I need to use a tool? Yes\\nAction: the action to take, should be one of [searchBill, askUser, queryTime]\\nAction Input: the input to the action\\nObservation: the result of the action\\n```\\n\\nWhen you have a response to say to the Human, or if you do not need to use a tool, you MUST use the format:\\n\\n```\\nThought: Do I need to use a tool? No\\nAI: [your response here]\\n```\\n\\nBegin!\\n\\nPrevious conversation history:\\n\\n\\nNew input: 我想查账单\\nThought: Do I need to use a tool? Yes\\nAction: askUser\\nAction Input: 你想查询哪种类型的账单？是日账单还是月账单？同时，也请提供你想查询的开始日期和结束日期。\\nObservation: 查询上个月的账单\\nThought:', additional_kwargs={}, role='user')]\n",
      "\u001b[32;1m\u001b[1;3mDo I need to use a tool? Yes\n",
      "Action: queryTime\n",
      "Action Input: {}\u001b[0m\n",
      "Observation: \u001b[38;5;200m\u001b[1;3m2023-09-21 15:49:20\u001b[0m\n",
      "Thought:[ChatMessage(content='Assistant is a large language model trained by OpenAI.\\n\\nAssistant is designed to be able to assist with a wide range of tasks, from answering simple questions to providing in-depth explanations and discussions on a wide range of topics. As a language model, Assistant is able to generate human-like text based on the input it receives, allowing it to engage in natural-sounding conversations and provide responses that are coherent and relevant to the topic at hand.\\n\\nAssistant is constantly learning and improving, and its capabilities are constantly evolving. It is able to process and understand large amounts of text, and can use this knowledge to provide accurate and informative responses to a wide range of questions. Additionally, Assistant is able to generate its own text based on the input it receives, allowing it to engage in discussions and provide explanations and descriptions on a wide range of topics.\\n\\nOverall, Assistant is a powerful tool that can help with a wide range of tasks and provide valuable insights and information on a wide range of topics. Whether you need help with a specific question or just want to have a conversation about a particular topic, Assistant is here to assist.\\n\\nTOOLS:\\n------\\n\\nAssistant has access to the following tools:\\n\\n> searchBill: searchBill(action_input: str) - 用于查询指定日期账单, 查询参数不可编造，如果无法从用户提问中得知，需要向用户询问，需要的参数为json格式:\\n    {\\n        \"type\": \"账单类型:日账单|月账单\", \\n        \"startDate\": \"开始日期, 如果是日账单需要精确到日,eg:20230627, 如果是月账单只需要精确到月,eg:202306\", \\n        \"endDate\": \"结束日期,格式和startDate一致\"\\n    }\\n> askUser: askUser(action_input: str) - 当你无法确定可以调用哪个工具或者调用工具缺少必要参数的时候，你可以询问用户获取想要的答案，如果用户回答不满足，你可以重复提问，输入为:[你想了解的问题]\\n> queryTime: queryTime(action_input) - 查询此时此刻时间\\n\\nTo use a tool, please use the following format:\\n\\n```\\nThought: Do I need to use a tool? Yes\\nAction: the action to take, should be one of [searchBill, askUser, queryTime]\\nAction Input: the input to the action\\nObservation: the result of the action\\n```\\n\\nWhen you have a response to say to the Human, or if you do not need to use a tool, you MUST use the format:\\n\\n```\\nThought: Do I need to use a tool? No\\nAI: [your response here]\\n```\\n\\nBegin!\\n\\nPrevious conversation history:\\n\\n\\nNew input: 我想查账单\\nThought: Do I need to use a tool? Yes\\nAction: askUser\\nAction Input: 你想查询哪种类型的账单？是日账单还是月账单？同时，也请提供你想查询的开始日期和结束日期。\\nObservation: 查询上个月的账单\\nThought:Do I need to use a tool? Yes\\nAction: queryTime\\nAction Input: {}\\nObservation: 2023-09-21 15:49:20\\nThought:', additional_kwargs={}, role='user')]\n",
      "\u001b[32;1m\u001b[1;3mDo I need to use a tool? Yes\n",
      "Action: searchBill\n",
      "Action Input: {\"type\": \"月账单\", \"startDate\": \"202308\", \"endDate\": \"202308\"}\u001b[0m\n",
      "Observation: \u001b[36;1m\u001b[1;3m查询到账单如下：账单类型:月账单\t日期:202308-202308\t 消费200元\u001b[0m\n",
      "Thought:[ChatMessage(content='Assistant is a large language model trained by OpenAI.\\n\\nAssistant is designed to be able to assist with a wide range of tasks, from answering simple questions to providing in-depth explanations and discussions on a wide range of topics. As a language model, Assistant is able to generate human-like text based on the input it receives, allowing it to engage in natural-sounding conversations and provide responses that are coherent and relevant to the topic at hand.\\n\\nAssistant is constantly learning and improving, and its capabilities are constantly evolving. It is able to process and understand large amounts of text, and can use this knowledge to provide accurate and informative responses to a wide range of questions. Additionally, Assistant is able to generate its own text based on the input it receives, allowing it to engage in discussions and provide explanations and descriptions on a wide range of topics.\\n\\nOverall, Assistant is a powerful tool that can help with a wide range of tasks and provide valuable insights and information on a wide range of topics. Whether you need help with a specific question or just want to have a conversation about a particular topic, Assistant is here to assist.\\n\\nTOOLS:\\n------\\n\\nAssistant has access to the following tools:\\n\\n> searchBill: searchBill(action_input: str) - 用于查询指定日期账单, 查询参数不可编造，如果无法从用户提问中得知，需要向用户询问，需要的参数为json格式:\\n    {\\n        \"type\": \"账单类型:日账单|月账单\", \\n        \"startDate\": \"开始日期, 如果是日账单需要精确到日,eg:20230627, 如果是月账单只需要精确到月,eg:202306\", \\n        \"endDate\": \"结束日期,格式和startDate一致\"\\n    }\\n> askUser: askUser(action_input: str) - 当你无法确定可以调用哪个工具或者调用工具缺少必要参数的时候，你可以询问用户获取想要的答案，如果用户回答不满足，你可以重复提问，输入为:[你想了解的问题]\\n> queryTime: queryTime(action_input) - 查询此时此刻时间\\n\\nTo use a tool, please use the following format:\\n\\n```\\nThought: Do I need to use a tool? Yes\\nAction: the action to take, should be one of [searchBill, askUser, queryTime]\\nAction Input: the input to the action\\nObservation: the result of the action\\n```\\n\\nWhen you have a response to say to the Human, or if you do not need to use a tool, you MUST use the format:\\n\\n```\\nThought: Do I need to use a tool? No\\nAI: [your response here]\\n```\\n\\nBegin!\\n\\nPrevious conversation history:\\n\\n\\nNew input: 我想查账单\\nThought: Do I need to use a tool? Yes\\nAction: askUser\\nAction Input: 你想查询哪种类型的账单？是日账单还是月账单？同时，也请提供你想查询的开始日期和结束日期。\\nObservation: 查询上个月的账单\\nThought:Do I need to use a tool? Yes\\nAction: queryTime\\nAction Input: {}\\nObservation: 2023-09-21 15:49:20\\nThought:Do I need to use a tool? Yes\\nAction: searchBill\\nAction Input: {\"type\": \"月账单\", \"startDate\": \"202308\", \"endDate\": \"202308\"}\\nObservation: 查询到账单如下：账单类型:月账单\\t日期:202308-202308\\t 消费200元\\nThought:', additional_kwargs={}, role='user')]\n",
      "\u001b[32;1m\u001b[1;3mDo I need to use a tool? No\n",
      "AI: 查询到的上个月（2023年8月）的账单如下：消费200元。\u001b[0m\n",
      "\n",
      "\u001b[1m> Finished chain.\u001b[0m\n",
      ">>>>>>>>查询到的上个月（2023年8月）的账单如下：消费200元。\n"
     ]
    }
   ],
   "source": [
    "r = agent_chain.run(input='查询上个月的账单')\n",
    "print(f'>>>>>>>>{r}')\n"
   ]
  },
  {
   "cell_type": "code",
   "execution_count": 3,
   "id": "310fb341-2bd7-4642-995e-fe08797687a8",
   "metadata": {
    "tags": []
   },
   "outputs": [
    {
     "name": "stdout",
     "output_type": "stream",
     "text": [
      "\n",
      "\n",
      "\u001b[1m> Entering new CoroAgentExecutor chain...\u001b[0m\n",
      "[ChatMessage(content='Assistant is a large language model trained by OpenAI.\\n\\nAssistant is designed to be able to assist with a wide range of tasks, from answering simple questions to providing in-depth explanations and discussions on a wide range of topics. As a language model, Assistant is able to generate human-like text based on the input it receives, allowing it to engage in natural-sounding conversations and provide responses that are coherent and relevant to the topic at hand.\\n\\nAssistant is constantly learning and improving, and its capabilities are constantly evolving. It is able to process and understand large amounts of text, and can use this knowledge to provide accurate and informative responses to a wide range of questions. Additionally, Assistant is able to generate its own text based on the input it receives, allowing it to engage in discussions and provide explanations and descriptions on a wide range of topics.\\n\\nOverall, Assistant is a powerful tool that can help with a wide range of tasks and provide valuable insights and information on a wide range of topics. Whether you need help with a specific question or just want to have a conversation about a particular topic, Assistant is here to assist.\\n\\nTOOLS:\\n------\\n\\nAssistant has access to the following tools:\\n\\n> searchBill: searchBill(action_input: str) - 用于查询指定日期账单, 查询参数不可编造，如果无法从用户提问中得知，需要向用户询问，需要的参数为json格式:\\n    {\\n        \"type\": \"账单类型:日账单|月账单\", \\n        \"startDate\": \"开始日期, 如果是日账单需要精确到日,eg:20230627, 如果是月账单只需要精确到月,eg:202306\", \\n        \"endDate\": \"结束日期,格式和startDate一致\"\\n    }\\n> askUser: askUser(action_input: str) - 当你无法确定可以调用哪个工具或者调用工具缺少必要参数的时候，你可以询问用户获取想要的答案，如果用户回答不满足，你可以重复提问，输入为:[你想了解的问题]\\n> queryTime: queryTime(action_input) - 查询此时此刻时间\\n\\nTo use a tool, please use the following format:\\n\\n```\\nThought: Do I need to use a tool? Yes\\nAction: the action to take, should be one of [searchBill, askUser, queryTime]\\nAction Input: the input to the action\\nObservation: the result of the action\\n```\\n\\nWhen you have a response to say to the Human, or if you do not need to use a tool, you MUST use the format:\\n\\n```\\nThought: Do I need to use a tool? No\\nAI: [your response here]\\n```\\n\\nBegin!\\n\\nPrevious conversation history:\\nHuman: 我想查账单\\nAI: 你想查询哪种类型的账单？是日账单还是月账单？同时，也请提供你想查询的开始日期和结束日期。\\nHuman: 查询上个月的账单\\nAI: 查询到的上个月（2023年8月）的账单如下：消费200元。\\n\\nNew input: 这个月的呢\\n', additional_kwargs={}, role='user')]\n",
      "\u001b[32;1m\u001b[1;3mThought: Do I need to use a tool? Yes\n",
      "Action: queryTime\n",
      "Action Input: {}\u001b[0m\n",
      "Observation: \u001b[38;5;200m\u001b[1;3m2023-09-21 15:51:15\u001b[0m\n",
      "Thought:[ChatMessage(content='Assistant is a large language model trained by OpenAI.\\n\\nAssistant is designed to be able to assist with a wide range of tasks, from answering simple questions to providing in-depth explanations and discussions on a wide range of topics. As a language model, Assistant is able to generate human-like text based on the input it receives, allowing it to engage in natural-sounding conversations and provide responses that are coherent and relevant to the topic at hand.\\n\\nAssistant is constantly learning and improving, and its capabilities are constantly evolving. It is able to process and understand large amounts of text, and can use this knowledge to provide accurate and informative responses to a wide range of questions. Additionally, Assistant is able to generate its own text based on the input it receives, allowing it to engage in discussions and provide explanations and descriptions on a wide range of topics.\\n\\nOverall, Assistant is a powerful tool that can help with a wide range of tasks and provide valuable insights and information on a wide range of topics. Whether you need help with a specific question or just want to have a conversation about a particular topic, Assistant is here to assist.\\n\\nTOOLS:\\n------\\n\\nAssistant has access to the following tools:\\n\\n> searchBill: searchBill(action_input: str) - 用于查询指定日期账单, 查询参数不可编造，如果无法从用户提问中得知，需要向用户询问，需要的参数为json格式:\\n    {\\n        \"type\": \"账单类型:日账单|月账单\", \\n        \"startDate\": \"开始日期, 如果是日账单需要精确到日,eg:20230627, 如果是月账单只需要精确到月,eg:202306\", \\n        \"endDate\": \"结束日期,格式和startDate一致\"\\n    }\\n> askUser: askUser(action_input: str) - 当你无法确定可以调用哪个工具或者调用工具缺少必要参数的时候，你可以询问用户获取想要的答案，如果用户回答不满足，你可以重复提问，输入为:[你想了解的问题]\\n> queryTime: queryTime(action_input) - 查询此时此刻时间\\n\\nTo use a tool, please use the following format:\\n\\n```\\nThought: Do I need to use a tool? Yes\\nAction: the action to take, should be one of [searchBill, askUser, queryTime]\\nAction Input: the input to the action\\nObservation: the result of the action\\n```\\n\\nWhen you have a response to say to the Human, or if you do not need to use a tool, you MUST use the format:\\n\\n```\\nThought: Do I need to use a tool? No\\nAI: [your response here]\\n```\\n\\nBegin!\\n\\nPrevious conversation history:\\nHuman: 我想查账单\\nAI: 你想查询哪种类型的账单？是日账单还是月账单？同时，也请提供你想查询的开始日期和结束日期。\\nHuman: 查询上个月的账单\\nAI: 查询到的上个月（2023年8月）的账单如下：消费200元。\\n\\nNew input: 这个月的呢\\nThought: Do I need to use a tool? Yes\\nAction: queryTime\\nAction Input: {}\\nObservation: 2023-09-21 15:51:15\\nThought:', additional_kwargs={}, role='user')]\n",
      "\u001b[32;1m\u001b[1;3mDo I need to use a tool? Yes\n",
      "Action: searchBill\n",
      "Action Input: {\"type\": \"月账单\", \"startDate\": \"202309\", \"endDate\": \"202309\"}\u001b[0m\n",
      "Observation: \u001b[36;1m\u001b[1;3m查询到账单如下：账单类型:月账单\t日期:202309-202309\t 消费200元\u001b[0m\n",
      "Thought:[ChatMessage(content='Assistant is a large language model trained by OpenAI.\\n\\nAssistant is designed to be able to assist with a wide range of tasks, from answering simple questions to providing in-depth explanations and discussions on a wide range of topics. As a language model, Assistant is able to generate human-like text based on the input it receives, allowing it to engage in natural-sounding conversations and provide responses that are coherent and relevant to the topic at hand.\\n\\nAssistant is constantly learning and improving, and its capabilities are constantly evolving. It is able to process and understand large amounts of text, and can use this knowledge to provide accurate and informative responses to a wide range of questions. Additionally, Assistant is able to generate its own text based on the input it receives, allowing it to engage in discussions and provide explanations and descriptions on a wide range of topics.\\n\\nOverall, Assistant is a powerful tool that can help with a wide range of tasks and provide valuable insights and information on a wide range of topics. Whether you need help with a specific question or just want to have a conversation about a particular topic, Assistant is here to assist.\\n\\nTOOLS:\\n------\\n\\nAssistant has access to the following tools:\\n\\n> searchBill: searchBill(action_input: str) - 用于查询指定日期账单, 查询参数不可编造，如果无法从用户提问中得知，需要向用户询问，需要的参数为json格式:\\n    {\\n        \"type\": \"账单类型:日账单|月账单\", \\n        \"startDate\": \"开始日期, 如果是日账单需要精确到日,eg:20230627, 如果是月账单只需要精确到月,eg:202306\", \\n        \"endDate\": \"结束日期,格式和startDate一致\"\\n    }\\n> askUser: askUser(action_input: str) - 当你无法确定可以调用哪个工具或者调用工具缺少必要参数的时候，你可以询问用户获取想要的答案，如果用户回答不满足，你可以重复提问，输入为:[你想了解的问题]\\n> queryTime: queryTime(action_input) - 查询此时此刻时间\\n\\nTo use a tool, please use the following format:\\n\\n```\\nThought: Do I need to use a tool? Yes\\nAction: the action to take, should be one of [searchBill, askUser, queryTime]\\nAction Input: the input to the action\\nObservation: the result of the action\\n```\\n\\nWhen you have a response to say to the Human, or if you do not need to use a tool, you MUST use the format:\\n\\n```\\nThought: Do I need to use a tool? No\\nAI: [your response here]\\n```\\n\\nBegin!\\n\\nPrevious conversation history:\\nHuman: 我想查账单\\nAI: 你想查询哪种类型的账单？是日账单还是月账单？同时，也请提供你想查询的开始日期和结束日期。\\nHuman: 查询上个月的账单\\nAI: 查询到的上个月（2023年8月）的账单如下：消费200元。\\n\\nNew input: 这个月的呢\\nThought: Do I need to use a tool? Yes\\nAction: queryTime\\nAction Input: {}\\nObservation: 2023-09-21 15:51:15\\nThought:Do I need to use a tool? Yes\\nAction: searchBill\\nAction Input: {\"type\": \"月账单\", \"startDate\": \"202309\", \"endDate\": \"202309\"}\\nObservation: 查询到账单如下：账单类型:月账单\\t日期:202309-202309\\t 消费200元\\nThought:', additional_kwargs={}, role='user')]\n",
      "\u001b[32;1m\u001b[1;3mDo I need to use a tool? No\n",
      "AI: 查询到的这个月（2023年9月）的账单如下：消费200元。\u001b[0m\n",
      "\n",
      "\u001b[1m> Finished chain.\u001b[0m\n",
      ">>>>>>>>查询到的这个月（2023年9月）的账单如下：消费200元。\n"
     ]
    }
   ],
   "source": [
    "r = agent_chain.run(input='这个月的呢')\n",
    "print(f'>>>>>>>>{r}')"
   ]
  },
  {
   "cell_type": "code",
   "execution_count": null,
   "id": "f2de3ddd-a297-46ef-ac8e-79d1838b6bef",
   "metadata": {},
   "outputs": [],
   "source": [
    "r = agent_chain.run(input='今天的账单呢')\n",
    "print(f'>>>>>>>>{r}')"
   ]
  }
 ],
 "metadata": {
  "kernelspec": {
   "display_name": "TPP Notebook",
   "language": "python",
   "name": "tpp_notebook"
  },
  "language_info": {
   "file_extension": ".py",
   "mimetype": "text/x-python",
   "name": "python",
   "nbconvert_exporter": "python",
   "pygments_lexer": "ipython3",
   "version": "3.9"
  }
 },
 "nbformat": 4,
 "nbformat_minor": 5
}
