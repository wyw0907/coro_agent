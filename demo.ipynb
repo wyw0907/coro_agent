{
 "cells": [
  {
   "cell_type": "code",
   "execution_count": 3,
   "id": "44bc9359",
   "metadata": {},
   "outputs": [
    {
     "name": "stdout",
     "output_type": "stream",
     "text": [
      "\n",
      "\n",
      "\u001b[1m> Entering new CoroAgentExecutor chain...\u001b[0m\n",
      "{}\n",
      "\u001b[32;1m\u001b[1;3m 我需要知道账单的类型，开始日期和结束日期\n",
      "Action: askUser\n",
      "Action Input: 请问您想查询的账单类型，开始日期和结束日期是多少？\u001b[0m\n",
      "Observation: \u001b[33;1m\u001b[1;3moutput='请问您想查询的账单类型，开始日期和结束日期是多少？'\u001b[0m\n",
      "Thought:\n",
      "\u001b[1m> Finished chain.\u001b[0m\n",
      ">>>>>>>>请问您想查询的账单类型，开始日期和结束日期是多少？\n"
     ]
    }
   ],
   "source": [
    "from langchain.llms import OpenAI\n",
    "from langchain.agents import AgentType\n",
    "from langchain.memory import ConversationBufferMemory\n",
    "from langchain.tools import StructuredTool\n",
    "import json,os\n",
    "from datetime import datetime\n",
    "import pytz\n",
    "from coro_agent.coro_agent import initialize_coro_agent, CoroAgentSuspend\n",
    "\n",
    "memory = ConversationBufferMemory(memory_key='chat_history')\n",
    "\n",
    "os.environ['OPENAI_API_KEY'] = '****'\n",
    "\n",
    "llm = OpenAI(temperature=0)\n",
    "\n",
    "def queryTime(action_input):\n",
    "    '''\n",
    "    查询此时此刻时间\n",
    "    '''\n",
    "    now = datetime.now()\n",
    "    beijing_tz = pytz.timezone('Asia/Shanghai')\n",
    "    beijing_time = now.astimezone(beijing_tz)\n",
    "    return beijing_time.strftime(\"%Y-%m-%d %H:%M:%S\")\n",
    "\n",
    "def askUser(action_input: str):\n",
    "    '''\n",
    "    当你无法确定可以调用哪个工具或者调用工具缺少必要参数的时候，你可以询问用户获取想要的答案，如果用户回答不满足，你可以重复提问，输入为:[你想了解的问题]\n",
    "    '''    \n",
    "    # answers = [\n",
    "    #     '查询今天的账单',\n",
    "    #     '查询这个月的账单',\n",
    "    #     '查询昨天的账单',\n",
    "    #     '查询上个月的账单',\n",
    "    #     '查询2023年8月份的账单'\n",
    "    # ]\n",
    "    # return answers[int(random.random() * 10) % len(answers)]\n",
    "    \n",
    "    return CoroAgentSuspend(output=action_input)\n",
    "\n",
    "def searchBill(action_input: str):\n",
    "    '''\n",
    "    用于查询指定日期账单, 查询参数不可编造，如果无法从用户提问中得知，需要向用户询问，需要的参数为json格式:\n",
    "    {{\n",
    "        \"type\": \"账单类型:日账单|月账单\", \n",
    "        \"startDate\": \"开始日期, 如果是日账单需要精确到日,eg:20230627, 如果是月账单只需要精确到月,eg:202306\", \n",
    "        \"endDate\": \"结束日期,格式和startDate一致\"\n",
    "    }}\n",
    "    '''\n",
    "    params = json.loads(action_input)\n",
    "    return '查询到账单如下：账单类型:{}\\t日期:{}-{}\\t 消费200元' .format(\n",
    "        params['type'],\n",
    "        params['startDate'],\n",
    "        params['endDate'],        \n",
    "    )\n",
    "\n",
    "tools = [\n",
    "    StructuredTool.from_function(searchBill),\n",
    "    StructuredTool.from_function(askUser),\n",
    "    StructuredTool.from_function(queryTime),\n",
    "]\n",
    "\n",
    "\n",
    "#agent_chain = initialize_coro_agent(tools, llm, agent=AgentType.CONVERSATIONAL_REACT_DESCRIPTION, verbose=True, memory=memory)\n",
    "# The agent `CONVERSATIONAL_REACT_DESCRIPTION`` have a aalignant bug， see: https://github.com/langchain-ai/langchain/issues/10311\n",
    "\n",
    "agent_chain = initialize_coro_agent(tools, llm, agent=AgentType.ZERO_SHOT_REACT_DESCRIPTION, verbose=True, memory=memory)\n",
    "\n",
    "r = agent_chain.run(input='我想查账单')\n",
    "print(f'>>>>>>>>{r}')\n",
    "\n"
   ]
  },
  {
   "cell_type": "code",
   "execution_count": 4,
   "id": "3a23d57c-7bcf-43c8-82d7-23b7b544db4f",
   "metadata": {
    "tags": []
   },
   "outputs": [
    {
     "name": "stdout",
     "output_type": "stream",
     "text": [
      "\n",
      "\n",
      "\u001b[1m> Entering new CoroAgentExecutor chain...\u001b[0m\n",
      "{'agent_inputs': {'input': '我想查账单', 'chat_history': ''}, 'intermediate_steps': [], 'last_agent_action': AgentAction(tool='askUser', tool_input='请问您想查询的账单类型，开始日期和结束日期是多少？', log=' 我需要知道账单的类型，开始日期和结束日期\\nAction: askUser\\nAction Input: 请问您想查询的账单类型，开始日期和结束日期是多少？')}\n",
      "\u001b[32;1m\u001b[1;3m 我现在知道了账单的类型，开始日期和结束日期\n",
      "Action: searchBill\n",
      "Action Input: {\n",
      "    \"type\": \"月账单\", \n",
      "    \"startDate\": \"202305\", \n",
      "    \"endDate\": \"202306\"\n",
      "}\u001b[0m\n",
      "Observation: \u001b[36;1m\u001b[1;3m查询到账单如下：账单类型:月账单\t日期:202305-202306\t 消费200元\u001b[0m\n",
      "Thought:"
     ]
    },
    {
     "name": "stderr",
     "output_type": "stream",
     "text": [
      "Retrying langchain.llms.openai.completion_with_retry.<locals>._completion_with_retry in 4.0 seconds as it raised RateLimitError: Rate limit reached for default-text-davinci-003 in organization org-8IbwjGOkRHAzjhNE2xUU1aP1 on requests per min. Limit: 3 / min. Please try again in 20s. Contact us through our help center at help.openai.com if you continue to have issues. Please add a payment method to your account to increase your rate limit. Visit https://platform.openai.com/account/billing to add a payment method..\n",
      "Retrying langchain.llms.openai.completion_with_retry.<locals>._completion_with_retry in 4.0 seconds as it raised RateLimitError: Rate limit reached for default-text-davinci-003 in organization org-8IbwjGOkRHAzjhNE2xUU1aP1 on requests per min. Limit: 3 / min. Please try again in 20s. Contact us through our help center at help.openai.com if you continue to have issues. Please add a payment method to your account to increase your rate limit. Visit https://platform.openai.com/account/billing to add a payment method..\n",
      "Retrying langchain.llms.openai.completion_with_retry.<locals>._completion_with_retry in 4.0 seconds as it raised RateLimitError: Rate limit reached for default-text-davinci-003 in organization org-8IbwjGOkRHAzjhNE2xUU1aP1 on requests per min. Limit: 3 / min. Please try again in 20s. Contact us through our help center at help.openai.com if you continue to have issues. Please add a payment method to your account to increase your rate limit. Visit https://platform.openai.com/account/billing to add a payment method..\n"
     ]
    },
    {
     "name": "stdout",
     "output_type": "stream",
     "text": [
      "\u001b[32;1m\u001b[1;3m 我现在知道了账单的详细信息\n",
      "Final Answer: 您查询的账单类型为月账单，日期为202305-202306，消费200元。\u001b[0m\n",
      "\n",
      "\u001b[1m> Finished chain.\u001b[0m\n",
      ">>>>>>>>您查询的账单类型为月账单，日期为202305-202306，消费200元。\n"
     ]
    }
   ],
   "source": [
    "r = agent_chain.run(input='查询上个月的账单')\n",
    "print(f'>>>>>>>>{r}')"
   ]
  }
 ],
 "metadata": {
  "kernelspec": {
   "display_name": "Python 3",
   "language": "python",
   "name": "python3"
  },
  "language_info": {
   "codemirror_mode": {
    "name": "ipython",
    "version": 3
   },
   "file_extension": ".py",
   "mimetype": "text/x-python",
   "name": "python",
   "nbconvert_exporter": "python",
   "pygments_lexer": "ipython3",
   "version": "3.8.9"
  }
 },
 "nbformat": 4,
 "nbformat_minor": 5
}
