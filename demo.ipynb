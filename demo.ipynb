{
 "cells": [
  {
   "cell_type": "code",
   "execution_count": 1,
   "id": "91f5eb05-8153-4603-90bd-a112b157a6cd",
   "metadata": {
    "tags": []
   },
   "outputs": [
    {
     "name": "stdout",
     "output_type": "stream",
     "text": [
      "\n",
      "\n",
      "\u001b[1m> Entering new CoroAgentExecutor chain...\u001b[0m\n",
      "\u001b[32;1m\u001b[1;3m用户没有提供具体的账单类型和日期，我需要向用户询问这些信息。\n",
      "Action: askUser\n",
      "Action Input: 你想查询哪种类型的账单（日账单或月账单）？需要查询哪个日期范围的账单？\u001b[0m\n",
      "Observation: \u001b[33;1m\u001b[1;3moutput='你想查询哪种类型的账单（日账单或月账单）？需要查询哪个日期范围的账单？' callback=StructuredTool(name='askUserCb', description='askUserCb(user_input: str) - callback for askUser', args_schema=<class 'pydantic.main.askUserCbSchemaSchema'>, return_direct=False, verbose=False, callbacks=None, callback_manager=None, tags=None, metadata=None, handle_tool_error=False, func=<function askUserCb at 0x7f6fa321a0d0>, coroutine=None)\u001b[0m\n",
      "Thought:\n",
      "\u001b[1m> Finished chain.\u001b[0m\n",
      ">>>>>>>>你想查询哪种类型的账单（日账单或月账单）？需要查询哪个日期范围的账单？\n"
     ]
    }
   ],
   "source": [
    "from langchain.llms import OpenAI\n",
    "from langchain.agents import AgentType\n",
    "from langchain.memory import ConversationBufferMemory\n",
    "from langchain.tools import StructuredTool\n",
    "import json,os\n",
    "from datetime import datetime\n",
    "import pytz\n",
    "from coro_agent.coro_agent import initialize_coro_agent, CoroAgentSuspend\n",
    "\n",
    "memory = ConversationBufferMemory(memory_key='chat_history')\n",
    "\n",
    "os.environ['OPENAI_API_KEY'] = '****'\n",
    "\n",
    "llm = OpenAI(temperature=0)\n",
    "\n",
    "def queryTime(action_input):\n",
    "    '''\n",
    "    查询此时此刻时间\n",
    "    '''\n",
    "    now = datetime.now()\n",
    "    beijing_tz = pytz.timezone('Asia/Shanghai')\n",
    "    beijing_time = now.astimezone(beijing_tz)\n",
    "    return beijing_time.strftime(\"%Y-%m-%d %H:%M:%S\")\n",
    "\n",
    "def askUserCb(user_input: str):\n",
    "    '''\n",
    "    callback for askUser\n",
    "    '''\n",
    "    print(f'this is askUserCb {user_input}')\n",
    "    return user_input\n",
    "\n",
    "def askUser(action_input: str):\n",
    "    '''\n",
    "    当你无法确定可以调用哪个工具或者调用工具缺少必要参数的时候，你可以询问用户获取想要的答案，如果用户回答不满足，你可以重复提问，输入为:[你想了解的问题]\n",
    "    '''    \n",
    "    return CoroAgentSuspend(output=action_input, callback=StructuredTool.from_function(askUserCb))\n",
    "\n",
    "\n",
    "def searchBill(action_input: str):\n",
    "    '''\n",
    "    用于查询指定日期账单, 查询参数不可编造，如果无法从用户提问中得知，需要向用户询问，需要的参数为json格式:\n",
    "    {{\n",
    "        \"type\": \"账单类型:日账单|月账单\", \n",
    "        \"startDate\": \"开始日期, 如果是日账单需要精确到日,eg:20230627, 如果是月账单只需要精确到月,eg:202306\", \n",
    "        \"endDate\": \"结束日期,格式和startDate一致\"\n",
    "    }}\n",
    "    '''\n",
    "    params = json.loads(action_input)\n",
    "    return '查询到账单如下：账单类型:{}\\t日期:{}-{}\\t 消费200元' .format(\n",
    "        params['type'],\n",
    "        params['startDate'],\n",
    "        params['endDate'],        \n",
    "    )\n",
    "\n",
    "tools = [\n",
    "    StructuredTool.from_function(searchBill),\n",
    "    StructuredTool.from_function(askUser),\n",
    "    StructuredTool.from_function(queryTime),\n",
    "]\n",
    "\n",
    "\n",
    "#agent_chain = initialize_coro_agent(tools, llm, agent=AgentType.CONVERSATIONAL_REACT_DESCRIPTION, verbose=True, memory=memory)\n",
    "# The agent `CONVERSATIONAL_REACT_DESCRIPTION`` have a aalignant bug， see: https://github.com/langchain-ai/langchain/issues/10311\n",
    "\n",
    "agent_chain = initialize_coro_agent(tools, llm, agent=AgentType.ZERO_SHOT_REACT_DESCRIPTION, verbose=True, memory=memory)\n",
    "\n",
    "r = agent_chain.run(input='我想查账单')\n",
    "print(f'>>>>>>>>{r}')\n",
    "\n"
   ]
  },
  {
   "cell_type": "code",
   "execution_count": 2,
   "id": "5ec445b6-5b62-4eb8-b7c1-0bc430777181",
   "metadata": {
    "tags": []
   },
   "outputs": [
    {
     "name": "stdout",
     "output_type": "stream",
     "text": [
      "\n",
      "\n",
      "\u001b[1m> Entering new CoroAgentExecutor chain...\u001b[0m\n",
      "this is askUserCb 查询上个月的账单\n",
      "\n",
      "Observation: \u001b[33;1m\u001b[1;3m查询上个月的账单\u001b[0m\n",
      "Thought:\u001b[32;1m\u001b[1;3m用户想查询上个月的账单，但我还不知道现在的日期，我需要查询当前时间。\n",
      "Action: queryTime\n",
      "Action Input: \u001b[0m\n",
      "Observation: \u001b[38;5;200m\u001b[1;3m2023-09-26 17:53:06\u001b[0m\n",
      "Thought:\u001b[32;1m\u001b[1;3m现在是2023年9月，所以用户想查询的是2023年8月的账单，我现在可以查询账单了。\n",
      "Action: searchBill\n",
      "Action Input: {\n",
      "    \"type\": \"月账单\", \n",
      "    \"startDate\": \"202308\", \n",
      "    \"endDate\": \"202308\"\n",
      "}\u001b[0m\n",
      "Observation: \u001b[36;1m\u001b[1;3m查询到账单如下：账单类型:月账单\t日期:202308-202308\t 消费200元\u001b[0m\n",
      "Thought:\u001b[32;1m\u001b[1;3mI now know the final answer\n",
      "Final Answer: 查询到的账单如下：账单类型:月账单\t日期:202308-202308\t 消费200元\u001b[0m\n",
      "\n",
      "\u001b[1m> Finished chain.\u001b[0m\n",
      ">>>>>>>>查询到的账单如下：账单类型:月账单\t日期:202308-202308\t 消费200元\n"
     ]
    }
   ],
   "source": [
    "r = agent_chain.run(input='查询上个月的账单')\n",
    "print(f'>>>>>>>>{r}')\n"
   ]
  },
  {
   "cell_type": "code",
   "execution_count": null,
   "id": "bd2da9b2-af18-4610-a9c8-4f983ea7c7d6",
   "metadata": {},
   "outputs": [],
   "source": []
  }
 ],
 "metadata": {
  "kernelspec": {
   "display_name": "TPP Notebook",
   "language": "python",
   "name": "tpp_notebook"
  },
  "language_info": {
   "file_extension": ".py",
   "mimetype": "text/x-python",
   "name": "python",
   "nbconvert_exporter": "python",
   "pygments_lexer": "ipython3",
   "version": "3.9"
  }
 },
 "nbformat": 4,
 "nbformat_minor": 5
}
